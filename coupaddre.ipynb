{
 "cells": [
  {
   "cell_type": "code",
   "execution_count": 1,
   "metadata": {},
   "outputs": [],
   "source": [
    "import numpy as np"
   ]
  },
  {
   "cell_type": "code",
   "execution_count": 2,
   "metadata": {},
   "outputs": [],
   "source": [
    "#this can be removed when interfacing with the code, I used this cos didnt have fingerprint matrix\n",
    "a=[]\n",
    "\n",
    "for i in range(0,1000):\n",
    "    a.append([i,i])\n"
   ]
  },
  {
   "cell_type": "code",
   "execution_count": 3,
   "metadata": {},
   "outputs": [],
   "source": [
    "#convert the fpmatrix to list from np array\n",
    "#a=fingerprintmatrix.tolist()\n",
    "t=0 # for testing t=0; for new song t=1\n",
    "SongID=0\n",
    "tz=3#targetzone size\n",
    "offset=3#offset\n",
    "size=len(a)#length of fingerprint matrix\n",
    "AnchorPoints=a[0:size-tz-offset]\n",
    "addre=[]\n",
    "coup=[]\n",
    "for i in range(0,len(AnchorPoints)):\n",
    "    AnchorFrequency=AnchorPoints[i][0]\n",
    "    for j in range(0,tz):\n",
    "        TargetFrequency=a[i+offset+j+1][0]\n",
    "        DeltaTime=a[i+offset+j+1][1]-AnchorPoints[i][1]\n",
    "        addre.append([AnchorFrequency,TargetFrequency,DeltaTime])\n",
    "        if t==1:\n",
    "            coup.append([AnchorPoints[i][1],SongID])\n",
    "        else:\n",
    "            coup.append([AnchorPoints[i][1]])\n",
    "addre=np.asarray(addre)\n",
    "coup=np.asarray(coup)"
   ]
  }
 ],
 "metadata": {
  "interpreter": {
   "hash": "e922dd073470bdcc017ae3abd31d6491d6ed7bf31c1d559806e5511bfea88b81"
  },
  "kernelspec": {
   "display_name": "Python 3.9.1 64-bit",
   "language": "python",
   "name": "python3"
  },
  "language_info": {
   "codemirror_mode": {
    "name": "ipython",
    "version": 3
   },
   "file_extension": ".py",
   "mimetype": "text/x-python",
   "name": "python",
   "nbconvert_exporter": "python",
   "pygments_lexer": "ipython3",
   "version": "3.9.1"
  },
  "orig_nbformat": 4
 },
 "nbformat": 4,
 "nbformat_minor": 2
}
